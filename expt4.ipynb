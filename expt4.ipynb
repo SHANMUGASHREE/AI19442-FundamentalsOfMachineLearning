{
 "cells": [
  {
   "cell_type": "code",
   "execution_count": 15,
   "id": "e1d8cbad-30e0-47ab-8c20-b4c7a20df088",
   "metadata": {},
   "outputs": [
    {
     "name": "stdout",
     "output_type": "stream",
     "text": [
      "Weights: [ 6.94417618 -0.22212245]\n",
      "Bias: -3.253488566147656\n",
      "0.9756527449271702\n",
      "0.9697799964846544\n",
      "0.03720173277025323\n",
      "0.03720173277025323\n"
     ]
    }
   ],
   "source": [
    "import numpy as np\n",
    "def sigmoid_func(x):\n",
    "    return 1 / (1 + np.exp(-x))\n",
    "\n",
    "def der(x):\n",
    "    return sigmoid_func(x) * (1 - sigmoid_func(x))\n",
    "bias = 0.2\n",
    "weights = np.random.rand(2)\n",
    "input_value = np.array([[1, 0], [1, 1], [0, 0], [0, 1]]) \n",
    "output = np.array([1, 1, 0, 0]) \n",
    "\n",
    "\n",
    "for epochs in range(15000):\n",
    "    input_arr = input_value\n",
    "    weighted_sum = np.dot(input_arr, weights) + bias\n",
    "    first_output = sigmoid_func(weighted_sum)\n",
    "    error = first_output - output\n",
    "    total_error = np.square(np.subtract(first_output, output)).mean()\n",
    "    \n",
    "    first_der = error\n",
    "    second_der = der(weighted_sum)\n",
    "    derivative = first_der * second_der\n",
    "    t_input = input_value.T\n",
    "    final_derivative = np.dot(t_input, derivative)\n",
    "    \n",
    "    weights = weights - (0.05 * final_derivative)\n",
    "    bias = bias - (0.05 * np.sum(derivative))\n",
    "print(\"Weights:\", weights)\n",
    "print(\"Bias:\", bias)\n",
    "pred = np.array([1, 0])\n",
    "result = np.dot(pred, weights) + bias\n",
    "res = sigmoid_func(result)\n",
    "print( res)\n",
    "\n",
    "pred = np.array([1, 1])\n",
    "result = np.dot(pred, weights) + bias\n",
    "res = sigmoid_func(result)\n",
    "print(res)\n",
    "\n",
    "pred = np.array([0, 0])\n",
    "result = np.dot(pred, weights) + bias\n",
    "res = sigmoid_func(result)\n",
    "print(res)\n",
    "\n",
    "pred =np.array([0,0])\n",
    "result = np.dot(pred, weights) + bias\n",
    "res = sigmoid_func(result)\n",
    "print(res)\n"
   ]
  },
  {
   "cell_type": "code",
   "execution_count": null,
   "id": "3271f4f6-126c-4e3c-8862-91033db5076f",
   "metadata": {},
   "outputs": [],
   "source": []
  }
 ],
 "metadata": {
  "kernelspec": {
   "display_name": "Python 3 (ipykernel)",
   "language": "python",
   "name": "python3"
  },
  "language_info": {
   "codemirror_mode": {
    "name": "ipython",
    "version": 3
   },
   "file_extension": ".py",
   "mimetype": "text/x-python",
   "name": "python",
   "nbconvert_exporter": "python",
   "pygments_lexer": "ipython3",
   "version": "3.12.7"
  }
 },
 "nbformat": 4,
 "nbformat_minor": 5
}
